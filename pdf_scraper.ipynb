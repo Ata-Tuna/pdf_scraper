{
 "cells": [
  {
   "cell_type": "code",
   "execution_count": 56,
   "metadata": {},
   "outputs": [],
   "source": [
    "import fitz"
   ]
  },
  {
   "cell_type": "code",
   "execution_count": 57,
   "metadata": {},
   "outputs": [],
   "source": [
    "def extract_text_from_pdf(pdf_path):\n",
    "    # Open the PDF file\n",
    "    doc = fitz.open(pdf_path)\n",
    "    text = \"\"\n",
    "    \n",
    "    # Iterate through each page in the PDF\n",
    "    for page in doc:\n",
    "        # Extract text from the page and add it to the text variable\n",
    "        blocks = page.get_text(\"blocks\")\n",
    "        for i in range(len(blocks)):\n",
    "            # print((blocks[i][4]))\n",
    "            text += (\"\\n\" + blocks[i][4])\n",
    "    \n",
    "    # Close the document\n",
    "    doc.close()\n",
    "    return text\n",
    "\n",
    "def write_text_to_file(text, output_file_path):\n",
    "    # Open the output file in write mode (use 'a' for append mode)\n",
    "    with open(output_file_path, 'w', encoding='utf-8') as file:\n",
    "        file.write(text)"
   ]
  },
  {
   "cell_type": "code",
   "execution_count": 58,
   "metadata": {},
   "outputs": [],
   "source": [
    "\n",
    "# Define the path to your PDF file and the output text file\n",
    "pdf_path = 'bank_statement.pdf'\n",
    "output_file_path = 'bank_statement.txt'\n",
    "\n",
    "# Extract text from the PDF\n",
    "extracted_text = extract_text_from_pdf(pdf_path)\n",
    "\n",
    "# Write the extracted text to a file\n",
    "write_text_to_file(extracted_text, output_file_path)"
   ]
  }
 ],
 "metadata": {
  "kernelspec": {
   "display_name": "Python 3",
   "language": "python",
   "name": "python3"
  },
  "language_info": {
   "codemirror_mode": {
    "name": "ipython",
    "version": 3
   },
   "file_extension": ".py",
   "mimetype": "text/x-python",
   "name": "python",
   "nbconvert_exporter": "python",
   "pygments_lexer": "ipython3",
   "version": "3.11.8"
  }
 },
 "nbformat": 4,
 "nbformat_minor": 2
}
